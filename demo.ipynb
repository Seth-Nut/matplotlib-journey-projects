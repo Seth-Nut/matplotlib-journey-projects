{
 "cells": [
  {
   "cell_type": "code",
   "execution_count": 1,
   "metadata": {},
   "outputs": [
    {
     "data": {
      "text/plain": [
       "['.codegpt',\n",
       " '.git',\n",
       " '.gitignore',\n",
       " '01_matplotlib_basics.py',\n",
       " '02_beyond_the_defaults.py',\n",
       " '03_annotations.py',\n",
       " '04_custom_layouts.py',\n",
       " '05_maps.py',\n",
       " '06_non_conventional_graphs.py',\n",
       " '07_project.py',\n",
       " 'demo.ipynb',\n",
       " 'images',\n",
       " 'LICENSE',\n",
       " 'pages',\n",
       " 'README.md',\n",
       " '🏠Home.py']"
      ]
     },
     "execution_count": 1,
     "metadata": {},
     "output_type": "execute_result"
    }
   ],
   "source": [
    "import os\n",
    "\n",
    "# Titles for the files\n",
    "titles = [\n",
    "    \"01_matplotlib_basics\",\n",
    "    \"02_beyond_the_defaults\",\n",
    "    \"03_annotations\",\n",
    "    \"04_custom_layouts\",\n",
    "    \"05_maps\",\n",
    "    \"06_non_conventional_graphs\",\n",
    "    \"07_project\"\n",
    "]\n",
    "\n",
    "# Create each .py file with the corresponding title\n",
    "for title in titles:\n",
    "    with open(f\"{title}.py\", \"w\") as file:\n",
    "        file.write(f\"# {title.replace('_', ' ').title()}\\n\\n# Your code here\")\n",
    "\n",
    "# List created files to confirm\n",
    "os.listdir()\n"
   ]
  }
 ],
 "metadata": {
  "kernelspec": {
   "display_name": "docs-PxIqdmp3-py3.10",
   "language": "python",
   "name": "python3"
  },
  "language_info": {
   "codemirror_mode": {
    "name": "ipython",
    "version": 3
   },
   "file_extension": ".py",
   "mimetype": "text/x-python",
   "name": "python",
   "nbconvert_exporter": "python",
   "pygments_lexer": "ipython3",
   "version": "3.10.11"
  }
 },
 "nbformat": 4,
 "nbformat_minor": 2
}
